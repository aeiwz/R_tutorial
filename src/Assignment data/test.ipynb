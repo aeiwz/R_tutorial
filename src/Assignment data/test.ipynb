{
 "cells": [
  {
   "cell_type": "code",
   "execution_count": 4,
   "metadata": {},
   "outputs": [
    {
     "name": "stdout",
     "output_type": "stream",
     "text": [
      "Dataset 1 saved to data_1.csv\n",
      "Dataset 2 saved to data_2.csv\n",
      "Dataset 3 saved to data_3.csv\n",
      "Dataset 4 saved to data_4.csv\n",
      "Dataset 5 saved to data_5.csv\n",
      "Dataset 6 saved to data_6.csv\n",
      "Dataset 7 saved to data_7.csv\n",
      "Dataset 8 saved to data_8.csv\n",
      "Dataset 9 saved to data_9.csv\n",
      "Dataset 10 saved to data_10.csv\n"
     ]
    }
   ],
   "source": [
    "import numpy as np\n",
    "import pandas as pd\n",
    "\n",
    "# Parameters for datasets\n",
    "num_students = 1000\n",
    "num_genes = 100\n",
    "student_groups = [f'Group_{i+1}' for i in range(10)]\n",
    "\n",
    "# Function to generate a dataset\n",
    "def generate_dataset(index):\n",
    "    # Generate random gene expression data with only positive values\n",
    "    gene_expression = np.random.uniform(low=0, high=1, size=(num_students, num_genes))\n",
    "    \n",
    "    # Create a dataframe for gene expression\n",
    "    gene_columns = [f'Gene_{i+1}' for i in range(num_genes)]\n",
    "    df_genes = pd.DataFrame(gene_expression, columns=gene_columns)\n",
    "    \n",
    "    # Generate random age data\n",
    "    ages = np.random.randint(low=18, high=65, size=num_students)\n",
    "    \n",
    "    # Generate random sex data\n",
    "    sexes = np.random.choice(['Male', 'Female'], size=num_students)\n",
    "    \n",
    "    # Add age and sex to the dataframe\n",
    "    df_genes['Age'] = ages\n",
    "    df_genes['Sex'] = sexes\n",
    "    \n",
    "    # move the age and sex columns to the front\n",
    "    cols = list(df_genes.columns)\n",
    "    cols = cols[-2:] + cols[:-2]\n",
    "    df_genes = df_genes[cols]\n",
    "    \n",
    "    # Export the dataframe to a CSV file\n",
    "    csv_file_path = f'data_{index+1}.csv'\n",
    "    df_genes.to_csv(csv_file_path, index=False)\n",
    "    print(f'Dataset {index+1} saved to {csv_file_path}')\n",
    "\n",
    "# Generate and save 10 datasets\n",
    "for i in range(10):\n",
    "    generate_dataset(i)\n"
   ]
  }
 ],
 "metadata": {
  "kernelspec": {
   "display_name": "aeiwz",
   "language": "python",
   "name": "python3"
  },
  "language_info": {
   "codemirror_mode": {
    "name": "ipython",
    "version": 3
   },
   "file_extension": ".py",
   "mimetype": "text/x-python",
   "name": "python",
   "nbconvert_exporter": "python",
   "pygments_lexer": "ipython3",
   "version": "3.11.7"
  }
 },
 "nbformat": 4,
 "nbformat_minor": 2
}
